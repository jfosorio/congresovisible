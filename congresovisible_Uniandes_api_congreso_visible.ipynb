{
 "metadata": {
  "name": ""
 },
 "nbformat": 3,
 "nbformat_minor": 0,
 "worksheets": [
  {
   "cells": [
    {
     "cell_type": "markdown",
     "metadata": {},
     "source": [
      "# Guia the como obtener y manipular datos de la pagina de congreso visible con Python"
     ]
    },
    {
     "cell_type": "markdown",
     "metadata": {},
     "source": [
      "## Obtener la informacion desde internet \n",
      "Una pagina inicial apunta a las pagina siguient con el campo 'next'"
     ]
    },
    {
     "cell_type": "code",
     "collapsed": false,
     "input": [
      "import json\n",
      "import urllib2\n",
      "import pandas as pd\n",
      "import numpy as np\n",
      "import pprint as pp\n",
      "import sys\n",
      "\n",
      "# Initial URL\n",
      "url = 'http://congresovisible.org/api/apis/candidatos/'\n",
      "req= urllib2.Request(url)\n",
      "# There several URL wiht candidates everyone retrivied as response['next']\n",
      "# in the previus url\n",
      "candidates = []\n",
      "while True:\n",
      "    try:\n",
      "        print \"Downloading URL: \"+url\n",
      "        response = urllib2.urlopen(req)\n",
      "        data = json.load(response)\n",
      "        # Concatenate the next results\n",
      "        candidates+= data['results']\n",
      "        url = data['next']\n",
      "    except urllib2.URLError:\n",
      "        print('It seems data is not available')\n",
      "        sys.exit(\"Error message\")\n",
      "    if url==None:\n",
      "        break\n",
      "    req = urllib2.Request(url)"
     ],
     "language": "python",
     "metadata": {},
     "outputs": [
      {
       "output_type": "stream",
       "stream": "stdout",
       "text": [
        "Downloading URL: http://congresovisible.org/api/apis/candidatos/\n",
        "Downloading URL: http://congresovisible.org/api/apis/candidatos/?page=2"
       ]
      },
      {
       "output_type": "stream",
       "stream": "stdout",
       "text": [
        "\n",
        "Downloading URL: http://congresovisible.org/api/apis/candidatos/?page=3"
       ]
      },
      {
       "output_type": "stream",
       "stream": "stdout",
       "text": [
        "\n",
        "Downloading URL: http://congresovisible.org/api/apis/candidatos/?page=4"
       ]
      },
      {
       "output_type": "stream",
       "stream": "stdout",
       "text": [
        "\n",
        "Downloading URL: http://congresovisible.org/api/apis/candidatos/?page=5"
       ]
      },
      {
       "output_type": "stream",
       "stream": "stdout",
       "text": [
        "\n",
        "Downloading URL: http://congresovisible.org/api/apis/candidatos/?page=6"
       ]
      },
      {
       "output_type": "stream",
       "stream": "stdout",
       "text": [
        "\n",
        "Downloading URL: http://congresovisible.org/api/apis/candidatos/?page=7"
       ]
      },
      {
       "output_type": "stream",
       "stream": "stdout",
       "text": [
        "\n",
        "Downloading URL: http://congresovisible.org/api/apis/candidatos/?page=8"
       ]
      },
      {
       "output_type": "stream",
       "stream": "stdout",
       "text": [
        "\n",
        "Downloading URL: http://congresovisible.org/api/apis/candidatos/?page=9"
       ]
      },
      {
       "output_type": "stream",
       "stream": "stdout",
       "text": [
        "\n",
        "Downloading URL: http://congresovisible.org/api/apis/candidatos/?page=10"
       ]
      },
      {
       "output_type": "stream",
       "stream": "stdout",
       "text": [
        "\n",
        "Downloading URL: http://congresovisible.org/api/apis/candidatos/?page=11"
       ]
      },
      {
       "output_type": "stream",
       "stream": "stdout",
       "text": [
        "\n",
        "Downloading URL: http://congresovisible.org/api/apis/candidatos/?page=12"
       ]
      },
      {
       "output_type": "stream",
       "stream": "stdout",
       "text": [
        "\n",
        "Downloading URL: http://congresovisible.org/api/apis/candidatos/?page=13"
       ]
      },
      {
       "output_type": "stream",
       "stream": "stdout",
       "text": [
        "\n",
        "Downloading URL: http://congresovisible.org/api/apis/candidatos/?page=14"
       ]
      },
      {
       "output_type": "stream",
       "stream": "stdout",
       "text": [
        "\n",
        "Downloading URL: http://congresovisible.org/api/apis/candidatos/?page=15"
       ]
      },
      {
       "output_type": "stream",
       "stream": "stdout",
       "text": [
        "\n",
        "Downloading URL: http://congresovisible.org/api/apis/candidatos/?page=16"
       ]
      },
      {
       "output_type": "stream",
       "stream": "stdout",
       "text": [
        "\n",
        "Downloading URL: http://congresovisible.org/api/apis/candidatos/?page=17"
       ]
      },
      {
       "output_type": "stream",
       "stream": "stdout",
       "text": [
        "\n",
        "Downloading URL: http://congresovisible.org/api/apis/candidatos/?page=18"
       ]
      },
      {
       "output_type": "stream",
       "stream": "stdout",
       "text": [
        "\n",
        "Downloading URL: http://congresovisible.org/api/apis/candidatos/?page=19"
       ]
      },
      {
       "output_type": "stream",
       "stream": "stdout",
       "text": [
        "\n",
        "Downloading URL: http://congresovisible.org/api/apis/candidatos/?page=20"
       ]
      },
      {
       "output_type": "stream",
       "stream": "stdout",
       "text": [
        "\n",
        "Downloading URL: http://congresovisible.org/api/apis/candidatos/?page=21"
       ]
      },
      {
       "output_type": "stream",
       "stream": "stdout",
       "text": [
        "\n",
        "Downloading URL: http://congresovisible.org/api/apis/candidatos/?page=22"
       ]
      },
      {
       "output_type": "stream",
       "stream": "stdout",
       "text": [
        "\n",
        "Downloading URL: http://congresovisible.org/api/apis/candidatos/?page=23"
       ]
      },
      {
       "output_type": "stream",
       "stream": "stdout",
       "text": [
        "\n",
        "Downloading URL: http://congresovisible.org/api/apis/candidatos/?page=24"
       ]
      },
      {
       "output_type": "stream",
       "stream": "stdout",
       "text": [
        "\n",
        "Downloading URL: http://congresovisible.org/api/apis/candidatos/?page=25"
       ]
      },
      {
       "output_type": "stream",
       "stream": "stdout",
       "text": [
        "\n",
        "Downloading URL: http://congresovisible.org/api/apis/candidatos/?page=26"
       ]
      },
      {
       "output_type": "stream",
       "stream": "stdout",
       "text": [
        "\n",
        "Downloading URL: http://congresovisible.org/api/apis/candidatos/?page=27"
       ]
      },
      {
       "output_type": "stream",
       "stream": "stdout",
       "text": [
        "\n",
        "Downloading URL: http://congresovisible.org/api/apis/candidatos/?page=28"
       ]
      },
      {
       "output_type": "stream",
       "stream": "stdout",
       "text": [
        "\n",
        "Downloading URL: http://congresovisible.org/api/apis/candidatos/?page=29"
       ]
      },
      {
       "output_type": "stream",
       "stream": "stdout",
       "text": [
        "\n",
        "Downloading URL: http://congresovisible.org/api/apis/candidatos/?page=30"
       ]
      },
      {
       "output_type": "stream",
       "stream": "stdout",
       "text": [
        "\n",
        "Downloading URL: http://congresovisible.org/api/apis/candidatos/?page=31"
       ]
      },
      {
       "output_type": "stream",
       "stream": "stdout",
       "text": [
        "\n",
        "Downloading URL: http://congresovisible.org/api/apis/candidatos/?page=32"
       ]
      },
      {
       "output_type": "stream",
       "stream": "stdout",
       "text": [
        "\n",
        "Downloading URL: http://congresovisible.org/api/apis/candidatos/?page=33"
       ]
      },
      {
       "output_type": "stream",
       "stream": "stdout",
       "text": [
        "\n",
        "Downloading URL: http://congresovisible.org/api/apis/candidatos/?page=34"
       ]
      },
      {
       "output_type": "stream",
       "stream": "stdout",
       "text": [
        "\n",
        "Downloading URL: http://congresovisible.org/api/apis/candidatos/?page=35"
       ]
      },
      {
       "output_type": "stream",
       "stream": "stdout",
       "text": [
        "\n",
        "Downloading URL: http://congresovisible.org/api/apis/candidatos/?page=36"
       ]
      },
      {
       "output_type": "stream",
       "stream": "stdout",
       "text": [
        "\n",
        "Downloading URL: http://congresovisible.org/api/apis/candidatos/?page=37"
       ]
      },
      {
       "output_type": "stream",
       "stream": "stdout",
       "text": [
        "\n",
        "Downloading URL: http://congresovisible.org/api/apis/candidatos/?page=38"
       ]
      },
      {
       "output_type": "stream",
       "stream": "stdout",
       "text": [
        "\n",
        "Downloading URL: http://congresovisible.org/api/apis/candidatos/?page=39"
       ]
      },
      {
       "output_type": "stream",
       "stream": "stdout",
       "text": [
        "\n",
        "Downloading URL: http://congresovisible.org/api/apis/candidatos/?page=40"
       ]
      },
      {
       "output_type": "stream",
       "stream": "stdout",
       "text": [
        "\n",
        "Downloading URL: http://congresovisible.org/api/apis/candidatos/?page=41"
       ]
      },
      {
       "output_type": "stream",
       "stream": "stdout",
       "text": [
        "\n",
        "Downloading URL: http://congresovisible.org/api/apis/candidatos/?page=42"
       ]
      },
      {
       "output_type": "stream",
       "stream": "stdout",
       "text": [
        "\n",
        "Downloading URL: http://congresovisible.org/api/apis/candidatos/?page=43"
       ]
      },
      {
       "output_type": "stream",
       "stream": "stdout",
       "text": [
        "\n",
        "Downloading URL: http://congresovisible.org/api/apis/candidatos/?page=44"
       ]
      },
      {
       "output_type": "stream",
       "stream": "stdout",
       "text": [
        "\n",
        "Downloading URL: http://congresovisible.org/api/apis/candidatos/?page=45"
       ]
      },
      {
       "output_type": "stream",
       "stream": "stdout",
       "text": [
        "\n",
        "Downloading URL: http://congresovisible.org/api/apis/candidatos/?page=46"
       ]
      },
      {
       "output_type": "stream",
       "stream": "stdout",
       "text": [
        "\n",
        "Downloading URL: http://congresovisible.org/api/apis/candidatos/?page=47"
       ]
      },
      {
       "output_type": "stream",
       "stream": "stdout",
       "text": [
        "\n",
        "Downloading URL: http://congresovisible.org/api/apis/candidatos/?page=48"
       ]
      },
      {
       "output_type": "stream",
       "stream": "stdout",
       "text": [
        "\n",
        "Downloading URL: http://congresovisible.org/api/apis/candidatos/?page=49"
       ]
      },
      {
       "output_type": "stream",
       "stream": "stdout",
       "text": [
        "\n",
        "Downloading URL: http://congresovisible.org/api/apis/candidatos/?page=50"
       ]
      },
      {
       "output_type": "stream",
       "stream": "stdout",
       "text": [
        "\n",
        "Downloading URL: http://congresovisible.org/api/apis/candidatos/?page=51"
       ]
      },
      {
       "output_type": "stream",
       "stream": "stdout",
       "text": [
        "\n",
        "Downloading URL: http://congresovisible.org/api/apis/candidatos/?page=52"
       ]
      },
      {
       "output_type": "stream",
       "stream": "stdout",
       "text": [
        "\n",
        "Downloading URL: http://congresovisible.org/api/apis/candidatos/?page=53"
       ]
      },
      {
       "output_type": "stream",
       "stream": "stdout",
       "text": [
        "\n",
        "Downloading URL: http://congresovisible.org/api/apis/candidatos/?page=54"
       ]
      },
      {
       "output_type": "stream",
       "stream": "stdout",
       "text": [
        "\n",
        "Downloading URL: http://congresovisible.org/api/apis/candidatos/?page=55"
       ]
      },
      {
       "output_type": "stream",
       "stream": "stdout",
       "text": [
        "\n",
        "Downloading URL: http://congresovisible.org/api/apis/candidatos/?page=56"
       ]
      },
      {
       "output_type": "stream",
       "stream": "stdout",
       "text": [
        "\n",
        "Downloading URL: http://congresovisible.org/api/apis/candidatos/?page=57"
       ]
      },
      {
       "output_type": "stream",
       "stream": "stdout",
       "text": [
        "\n",
        "Downloading URL: http://congresovisible.org/api/apis/candidatos/?page=58"
       ]
      },
      {
       "output_type": "stream",
       "stream": "stdout",
       "text": [
        "\n",
        "Downloading URL: http://congresovisible.org/api/apis/candidatos/?page=59"
       ]
      },
      {
       "output_type": "stream",
       "stream": "stdout",
       "text": [
        "\n",
        "Downloading URL: http://congresovisible.org/api/apis/candidatos/?page=60"
       ]
      },
      {
       "output_type": "stream",
       "stream": "stdout",
       "text": [
        "\n",
        "Downloading URL: http://congresovisible.org/api/apis/candidatos/?page=61"
       ]
      },
      {
       "output_type": "stream",
       "stream": "stdout",
       "text": [
        "\n"
       ]
      }
     ],
     "prompt_number": 1
    },
    {
     "cell_type": "markdown",
     "metadata": {},
     "source": [
      "## Datos que son campos de campos (fields of fields)"
     ]
    },
    {
     "cell_type": "code",
     "collapsed": false,
     "input": [
      "candidates_df = pd.DataFrame(candidates)"
     ],
     "language": "python",
     "metadata": {},
     "outputs": [],
     "prompt_number": 2
    },
    {
     "cell_type": "code",
     "collapsed": false,
     "input": [
      "candidates_df.topics_positions"
     ],
     "language": "python",
     "metadata": {},
     "outputs": [
      {
       "metadata": {},
       "output_type": "pyout",
       "prompt_number": 3,
       "text": [
        "0     [{u'posicion': u'', u'name': u'El consumo de m...\n",
        "1     [{u'posicion': u'', u'name': u'El aborto', u'v...\n",
        "2     [{u'posicion': u'', u'name': u'El aborto', u'v...\n",
        "3     [{u'posicion': u'', u'name': u'El aborto', u'v...\n",
        "4     [{u'posicion': u'', u'name': u'El aborto', u'v...\n",
        "5     [{u'posicion': u'', u'name': u'El aborto', u'v...\n",
        "6     [{u'posicion': u'', u'name': u'El aborto', u'v...\n",
        "7     [{u'posicion': u'', u'name': u'El aborto', u'v...\n",
        "8     [{u'posicion': u'', u'name': u'El aborto', u'v...\n",
        "9     [{u'posicion': u'', u'name': u'El aborto', u'v...\n",
        "10    [{u'posicion': u'disagree', u'name': u'El cons...\n",
        "11    [{u'posicion': u'', u'name': u'El aborto', u'v...\n",
        "12    [{u'posicion': u'', u'name': u'El aborto', u'v...\n",
        "13    [{u'posicion': u'', u'name': u'El aborto', u'v...\n",
        "14    [{u'posicion': u'', u'name': u'El aborto', u'v...\n",
        "...\n",
        "1190    [{u'posicion': u'', u'name': u'El aborto', u'v...\n",
        "1191    [{u'posicion': u'', u'name': u'El consumo de m...\n",
        "1192    [{u'posicion': u'', u'name': u'El aborto', u'v...\n",
        "1193    [{u'posicion': u'', u'name': u'El aborto', u'v...\n",
        "1194    [{u'posicion': u'', u'name': u'El aborto', u'v...\n",
        "1195    [{u'posicion': u'', u'name': u'El aborto', u'v...\n",
        "1196    [{u'posicion': u'', u'name': u'El aborto', u'v...\n",
        "1197    [{u'posicion': u'agree', u'name': u'El aborto'...\n",
        "1198    [{u'posicion': u'', u'name': u'El aborto', u'v...\n",
        "1199    [{u'posicion': u'', u'name': u'El aborto', u'v...\n",
        "1200    [{u'posicion': u'', u'name': u'El consumo de m...\n",
        "1201    [{u'posicion': u'disagree', u'name': u'El cons...\n",
        "1202    [{u'posicion': u'', u'name': u'El aborto', u'v...\n",
        "1203    [{u'posicion': u'', u'name': u'El aborto', u'v...\n",
        "1204    [{u'posicion': u'', u'name': u'El aborto', u'v...\n",
        "Name: topics_positions, Length: 1205, dtype: object"
       ]
      }
     ],
     "prompt_number": 3
    },
    {
     "cell_type": "code",
     "collapsed": false,
     "input": [
      "candidates_df.last_name"
     ],
     "language": "python",
     "metadata": {},
     "outputs": [
      {
       "metadata": {},
       "output_type": "pyout",
       "prompt_number": 4,
       "text": [
        "0         Abdala Olivera\n",
        "1          Abril Tarache\n",
        "2        Acevedo Ram\u00edrez\n",
        "3          Acevedo Salas\n",
        "4         Acevedo Toledo\n",
        "5          Acosta Angulo\n",
        "6         Acosta Camacho\n",
        "7        Acosta De Mu\u00f1oz\n",
        "8            Acosta Pava\n",
        "9           Acosta P\u00e9rez\n",
        "10        Acu\u00f1a Cardales\n",
        "11         Acu\u00f1a Pabuena\n",
        "12           Acu\u00f1a Perez\n",
        "13    Afanador Severiche\n",
        "14        Agamez Palacio\n",
        "...\n",
        "1190              Yule Zape\n",
        "1191        Zabarain D'arce\n",
        "1192        Zalabata Torres\n",
        "1193       Zambrano Padilla\n",
        "1194        Zambrano Soraca\n",
        "1195        Zamudio Paredes\n",
        "1196         Zapata Miranda\n",
        "1197         Zapata Salazar\n",
        "1198         Zapata S\u00e1nchez\n",
        "1199           Z\u00e1rate P\u00e9rez\n",
        "1200    Zuluaga Aristiz\u00e1bal\n",
        "1201           Zuluaga D\u00edaz\n",
        "1202          Zuluaga Henao\n",
        "1203          Zuluaga Villa\n",
        "1204           Z\u00fa\u00f1iga Nu\u00f1ez\n",
        "Name: last_name, Length: 1205, dtype: object"
       ]
      }
     ],
     "prompt_number": 4
    },
    {
     "cell_type": "code",
     "collapsed": false,
     "input": [
      "investigactions = [inv for inv in candidates_df.investigations if inv]"
     ],
     "language": "python",
     "metadata": {},
     "outputs": [],
     "prompt_number": 5
    },
    {
     "cell_type": "code",
     "collapsed": false,
     "input": [
      "investigactions"
     ],
     "language": "python",
     "metadata": {},
     "outputs": [
      {
       "metadata": {},
       "output_type": "pyout",
       "prompt_number": 6,
       "text": [
        "[[u'La Procuradur\\xeda General de la Naci\\xf3n le inici\\xf3 investigaci\\xf3n disciplinaria (11MAR11). La investigaci\\xf3n se origina a partir de la compulsa de copias que hiciera la Corte Suprema de Justicia para investigar los supuestos indebidos manejos en la Direcci\\xf3n Nacional de Estupefacientes. Llamado a versi\\xf3n libre (18ENE12).\\r\\n\\r\\nhttp://www.elespectador.com/noticias/judicial/articulo-256299-escandalo-de-dne-procuraduria-abre-indagacion-13-\\r\\ndirigentes\\r\\nVisto: enero 24/13\\r\\n\\r\\nLa Corte Suprema abri\\xf3 investigaci\\xf3n preliminar en contra por el supuesto tr\\xe1fico de influencias que ejercieron dentro de la Direcci\\xf3n Nacional de Estupefacientes, DNE (06ABR11).\\r\\nhttp://www.elespectador.com/noticias/judicial/articulo-261299-caso-dne-corte-abre-indagacion-14-dirigentes\\r\\nVisto: enero 24/13\\r\\n',\n",
        "  u'La Corte Suprema de Justicia le tiene una investigaci\\xf3n preliminar por supuestos nexos con grupos armados ilegales. http://moe.org.co/home/doc/moe_mre/2012/Baseparapolitica.pdf \\r\\nTomado: dic 03/13'],\n",
        " [u'La cifra de votos obtenidos corresponde al total de votos del partido, dado que \\xe9ste inscribi\\xf3 una lista cerrada.'],\n",
        " [u'El Consejo de Estado lo est\\xe1 investigando por presunto tr\\xe1fico de influencias, pues al parecer el congresista habr\\xeda entregado un inmueble a una iglesia evang\\xe9lica de Cali,  administrado por la Direcci\\xf3n Nacional de Estupefacientes (DNE) puesto que se le hab\\xeda incautado a un narcotraficante de la regi\\xf3n (27MAY11). As\\xed mismo, afronta una investigaci\\xf3n pues seg\\xfan denuncias, recomend\\xf3 al Superintendente de Salud, Gustavo Cobo Morales, unos nombres para que ocuparan cargos en ese sector.\\r\\n\\r\\nhttp://www.elespectador.com/noticias/judicial/articulo-421214-radican-demandan-de-perdida-de-investidura-contra-roy-barreras-y\\r\\nTomado: May 09/13\\r\\n\\r\\nhttp://www.elespectador.com/noticias/judicial/articulo-314160-uribe-sera-testigo-proceso-de-perdida-de-investidura-de-roy-barr\\r\\nVisto: enero 24/13'],\n",
        " [u'Estuvo en INDAGACI\\xd3N PRELIMINAR dentro del proceso de la PARAPOLITICA. La Fiscal\\xeda no encontr\\xf3 m\\xe9ritos para abrir un proceso penal por supuesta conformaci\\xf3n de grupos al margen de la ley y narcotr\\xe1fico. (31MAY07).\\r\\n\\r\\nhttp://www.eltiempo.com/archivo/documento/CMS-3578468\\r\\nVisto: enero 28/13',\n",
        "  u'La Corte Suprema de Justicia abri\\xf3 investigaci\\xf3n preliminar contra 27 senadores para esclarecer si alguno de ellos estaba impedido para hacer parte de la votaci\\xf3n para elegir jefe del Ministerio P\\xfablico y, pese a ello, no se declar\\xf3 impedido e hizo parte de la misma. La idea es comprobar si hubo o no alg\\xfan conflicto de intereses alrededor de la votaci\\xf3n (13SEPT13).\\r\\n\\r\\nhttp://www.elespectador.com/noticias/judicial/corte-investiga-27-senadores-articulo-446311\\r\\nTomado: septiembre 16/13\\r\\n'],\n",
        " [u'INVESTIGADO en el proceso de la PARAPOL\\xcdTICA (30ABR08).Se solicit\\xf3 p\\xe9rdida de investidura del Senador Benedetti, elegido Senador de la Rep\\xfablica para el per\\xedodo legislativo 2006 a 2014, por haber incurrido en violaci\\xf3n del r\\xe9gimen de incompatibilidades, del r\\xe9gimen de conflicto de intereses y por tr\\xe1fico de influencias,  (25ENE11),  por haber cambiado de Comisi\\xf3n en dos oportunidades, aparentemente, en medio de una serie de irregularidades. El demandante indic\\xf3 en su momento que el senador omiti\\xf3 su deber de apartarse de la Plenaria en la que se definir\\xeda si era viable o no su paso a la Comisi\\xf3n Primera y que retorn\\xf3 a la Segunda sin quiera contar con el visto bueno del pleno.\\r\\nhttp://www.verdadabierta.com/parapolitica/2297-nueve-congresistas-electos-de-la-u-son-investigados-por-parapolitica\\r\\nVisto: enero 31/13\\r\\n\\r\\nLa Corte Suprema de Justicia abri\\xf3 investigaci\\xf3n preliminar contra 27 senadores para esclarecer si alguno de ellos estaba impedido para hacer parte de la votaci\\xf3n para elegir jefe del Ministerio P\\xfablico y, pese a ello, no se declar\\xf3 impedido e hizo parte de la misma. La idea es comprobar si hubo o no alg\\xfan conflicto de intereses alrededor de la votaci\\xf3n (13SEPT13).\\r\\n\\r\\nhttp://www.elespectador.com/noticias/judicial/corte-investiga-27-senadores-articulo-446311\\r\\nTomado: septiembre 16/13\\r\\n'],\n",
        " [u'La Sala Penal de la Corte Suprema de Justicia archiv\\xf3 la investigaci\\xf3n que se le adelantaba (04DIC13). Llamado a indagatoria por la Corte Suprema de Justicia dentro del proceso de la PARAPOLITICA.\\r\\n\\r\\nhttp://www.eluniversal.com.co/monteria/sucesos/alias-%E2%80%9Cvisaje%E2%80%9D-salpica-al-senador-electo-musa-besaile\\r\\nVisto: enero 31/13\\r\\n\\r\\nhttp://www.elespectador.com/noticias/judicial/corte-suprema-archivo-investigacion-al-senador-musa-bes-articulo-462130\\r\\nTomado: Dic 04/13\\r\\n\\r\\nLa Corte Suprema de Justicia abri\\xf3 investigaci\\xf3n preliminar contra 27 senadores para esclarecer si alguno de ellos estaba impedido para hacer parte de la votaci\\xf3n para elegir jefe del Ministerio P\\xfablico y, pese a ello, no se declar\\xf3 impedido e hizo parte de la misma. La idea es comprobar si hubo o no alg\\xfan conflicto de intereses alrededor de la votaci\\xf3n (13SEPT13).\\r\\n\\r\\nhttp://www.elespectador.com/noticias/judicial/corte-investiga-27-senadores-articulo-446311\\r\\nTomado: septiembre 16/13\\r\\n\\r\\n'],\n",
        " [u'La Procuradur\\xeda General de la Naci\\xf3n le inici\\xf3 investigaci\\xf3n disciplinaria (11MAR11). La investigaci\\xf3n se origina a partir de la compulsa de copias que hiciera la Corte Suprema de Justicia para investigar los supuestos indebidos manejos en la Direcci\\xf3n Nacional de Estupefacientes. Llamado a versi\\xf3n libre (18ENE12).\\r\\n\\r\\nhttp://www.elespectador.com/noticias/judicial/articulo-256299-escandalo-de-dne-procuraduria-abre-indagacion-13-dirigentes\\r\\nVisto: enero 24/13\\r\\n\\r\\nLa Corte Suprema abri\\xf3 investigaci\\xf3n preliminar en contra por el supuesto tr\\xe1fico de influencias que ejercieron dentro de la Direcci\\xf3n Nacional de Estupefacientes, DNE (06ABR11).\\r\\nhttp://www.elespectador.com/noticias/judicial/articulo-261299-caso-dne-corte-abre-indagacion-14-dirigentes\\r\\nVisto: enero 24/13\\r\\n'],\n",
        " [u'El representante estuvo salpicado por investigaciones relacionadas con la parapol\\xedtica y el desv\\xedo de recursos, as\\xed como por concusi\\xf3n (exigencia de dinero aprovechando el car\\xe1cter de servidor p\\xfablico), interpuesta por un antiguo miembro de su Unidad de Trabajo Legislativo. La Corte Suprema dict\\xf3 auto inhibitorio (05MAR10)\\r\\nhttp://www.terra.com.co/elecciones_2010/articulo/html/vbn281-amazonas-el-departamento-que-no-reelige.htm\\r\\nTomado: Dic 03/13\\r\\nhttp://www.eltiempo.com/archivo/documento/MAM-3868271\\r\\nTomado: Dic 03/13\\r\\n'],\n",
        " [u'La Corte Suprema de Justicia abri\\xf3 investigaci\\xf3n preliminar contra 27 senadores para esclarecer si alguno de ellos estaba impedido para hacer parte de la votaci\\xf3n para elegir jefe del Ministerio P\\xfablico y, pese a ello, no se declar\\xf3 impedido e hizo parte de la misma. La idea es comprobar si hubo o no alg\\xfan conflicto de intereses alrededor de la votaci\\xf3n (13SEPT13).\\r\\n\\r\\nhttp://www.elespectador.com/noticias/judicial/corte-investiga-27-senadores-articulo-446311\\r\\nTomado: septiembre 16/13\\r\\n'],\n",
        " [u'Estuvo en INDAGACI\\xd3N PRELIMINAR dentro del proceso de la PARAPOLITICA. La Sala Penal de la Corte Suprema de Justicia se abstuvo de abrir investigaci\\xf3n por falta de pruebas contra el senador conservador, Juan Manuel Corzo, investigado de manera preliminar por supuestos nexos con las autodefensas. (03SEP08)\\r\\n\\r\\nhttp://www.caracol.com.co/nota.aspx?id=664008\\r\\nVisto: enero 31/13',\n",
        "  u'La Sala Penal de la Corte Suprema de Justicia abri\\xf3 investigaci\\xf3n preliminar contra el actual presidente del Congreso, Juan Manuel Corzo, por su presunta responsabilidad en un caso de tr\\xe1fico de influencias.\\r\\nEl senador conservador ser\\xe1 investigado por su presunta presi\\xf3n para en el nombramiento y toma de decisiones de la Corporaci\\xf3n Aut\\xf3noma Regional, CAR, Corponor de Norte de Santander.\\r\\n\\r\\nhttp://elespectador.com/noticias/judicial/articulo-306354-abren-investigacion-preliminar-contra-presidente-del-congreso\\r\\nVisto: enero 24/13\\r\\n\\r\\nLa Corte Suprema de Justicia abri\\xf3 investigaci\\xf3n preliminar contra 27 senadores para esclarecer si alguno de ellos estaba impedido para hacer parte de la votaci\\xf3n para elegir jefe del Ministerio P\\xfablico y, pese a ello, no se declar\\xf3 impedido e hizo parte de la misma. La idea es comprobar si hubo o no alg\\xfan conflicto de intereses alrededor de la votaci\\xf3n (13SEPT13).\\r\\n\\r\\nhttp://www.elespectador.com/noticias/judicial/corte-investiga-27-senadores-articulo-446311\\r\\nTomado: septiembre 16/13\\r\\n'],\n",
        " [u'La Corte Suprema de Justicia le tiene una investigaci\\xf3n preliminar por supuestos nexos con grupos armados ilegales. (06SEPT12)\\r\\nhttp://www.vanguardia.com/actualidad/colombia/173148-abren-investigacion-preliminar-contra-seis-congresistas-por-parapolitica\\r\\nTomado: Dic 03/13'],\n",
        " [u'La Corte Suprema decidi\\xf3 cerrar la investigaci\\xf3n por falta de pruebas (10FEB10). Fue llamado a indagatoria por la Corte Suprema de Justicia dentro del proceso de la PARAPOLITICA. En INVESTIGACI\\xd3N PRELIMINAR por irregularidades en contrataci\\xf3n mientras fue representante a la C\\xe1mara (22JUL09).\\r\\n\\r\\nhttp://www.eltiempo.com/archivo/documento/CMS-7164608\\r\\nVisto: enero 31/13\\r\\n'],\n",
        " [u'La Corte Suprema de Justicia abri\\xf3 investigaci\\xf3n preliminar contra 27 senadores para esclarecer si alguno de ellos estaba impedido para hacer parte de la votaci\\xf3n para elegir jefe del Ministerio P\\xfablico y, pese a ello, no se declar\\xf3 impedido e hizo parte de la misma. La idea es comprobar si hubo o no alg\\xfan conflicto de intereses alrededor de la votaci\\xf3n (13SEPT13).\\r\\n\\r\\nhttp://www.elespectador.com/noticias/judicial/corte-investiga-27-senadores-articulo-446311\\r\\nTomado: septiembre 16/13\\r\\n'],\n",
        " [u'La Corte Suprema de Justicia le tiene una investigaci\\xf3n preliminar por supuestos nexos con grupos armados ilegales. (06SEPT12)\\r\\nhttp://www.vanguardia.com/actualidad/colombia/173148-abren-investigacion-preliminar-contra-seis-congresistas-por-parapolitica\\r\\nTomado: Dic 03/13'],\n",
        " [u'La Corte Suprema de Justicia abri\\xf3 investigaci\\xf3n preliminar contra 27 senadores para esclarecer si alguno de ellos estaba impedido para hacer parte de la votaci\\xf3n para elegir jefe del Ministerio P\\xfablico y, pese a ello, no se declar\\xf3 impedido e hizo parte de la misma. La idea es comprobar si hubo o no alg\\xfan conflicto de intereses alrededor de la votaci\\xf3n (13SEPT13).\\r\\n\\r\\nhttp://www.elespectador.com/noticias/judicial/corte-investiga-27-senadores-articulo-446311\\r\\nTomado: septiembre 16/13\\r\\n'],\n",
        " [u'La Sala Penal de la Corte Suprema de Justicia declar\\xf3 auto inhibitorio en el proceso que se le adelantaba por las irregularidades en la entrega de notar\\xedas durante el gobierno de \\xc1lvaro Uribe V\\xe9lez. Esta decisi\\xf3n se tom\\xf3 al considerar que despu\\xe9s de estudiar las pruebas allegadas no se puede inferir que los parlamentarios hubieran incurrido en un tr\\xe1fico de influencias. (31JUL13). Sala Penal de la Corte Suprema de Justicia lo llam\\xf3 a versi\\xf3n libre por el esc\\xe1ndalo de la supuesta repartici\\xf3n de notar\\xedas a cambio del voto por el proyecto de reelecci\\xf3n presidencial en el 2004. (08ABR13)\\r\\n\\r\\nhttp://www.eltiempo.com/archivo/documento/CMS-12731508\\r\\nTomado: abril 11/13\\r\\n\\r\\nhttp://www.elespectador.com/noticias/judicial/corte-archivo-investigacion-contra-14-congresistas-carr-articulo-437204\\r\\nTomado: julio 31/13',\n",
        "  u'La Procuradur\\xeda General de la Naci\\xf3n archiv\\xf3 la investigaci\\xf3n disciplinaria que se le adelantaba  por presuntamente beneficiarse de los bienes que administraba la Direcci\\xf3n Nacional de Estupefacientes (DNE). (19NOV13). Corte Suprema de Justicia dict\\xf3 auto inhibitorio a favor de Enr\\xedquez Maya al no hallar m\\xe9rito para investigarlo dentro del llamado proceso de la \\u201cparapol\\xedtica (19NOV08) Estuvo en  INDAGACI\\xd3N PRELIMINAR  dentro del proceso de la PARAPOLITICA (16ABR08-19NOV08).\\r\\n\\r\\nLa Procuradur\\xeda General de la Naci\\xf3n le inici\\xf3 investigaci\\xf3n disciplinaria (11MAR11). La investigaci\\xf3n se origina a partir de la compulsa de copias que hiciera la Corte Suprema de Justicia para investigar los supuestos indebidos manejos en la Direcci\\xf3n Nacional de Estupefacientes. Llamado a versi\\xf3n libre (18ENE12).\\r\\n\\r\\nLa CSJ present\\xf3 auto inhibitorio en contra del senador en el proceso que se le adelantaba por su presunta participaci\\xf3n en el delito de tr\\xe1fico de influencias por el llamado esc\\xe1ndalo de los bienes de la Direcci\\xf3n Nacional de Estupefacientes (DNE).\\r\\nhttp://www.elespectador.com/noticias/judicial/articulo-355689-archivan-investigacion-contra-senador-carlos-eduardo-enriquez-es\\r\\nVisto: enero 31/13\\r\\nhttp://www.elespectador.com/noticias/judicial/articulo-256299-escandalo-de-dne-procuraduria-abre-indagacion-13-dirigentes\\r\\nVisto: Enero 31/13\\r\\n\\r\\nLa Corte Suprema abri\\xf3 investigaci\\xf3n preliminar en contra por el supuesto tr\\xe1fico de influencias que ejercieron dentro de la Direcci\\xf3n Nacional de Estupefacientes, DNE (06ABR11).\\r\\nhttp://www.elespectador.com/noticias/judicial/articulo-261299-caso-dne-corte-abre-indagacion-14-dirigentes\\r\\nVisto: enero 31/13\\r\\n\\r\\nhttp://www.elespectador.com/noticias/judicial/archivan-investigacion-contra-henriquez-maya-escandalo-articulo-459170\\r\\nTomado: Nov 19/13'],\n",
        " [u'La Corte Suprema de Justicia abri\\xf3 investigaci\\xf3n preliminar contra 27 senadores para esclarecer si alguno de ellos estaba impedido para hacer parte de la votaci\\xf3n para elegir jefe del Ministerio P\\xfablico y, pese a ello, no se declar\\xf3 impedido e hizo parte de la misma. La idea es comprobar si hubo o no alg\\xfan conflicto de intereses alrededor de la votaci\\xf3n (13SEPT13).\\r\\n\\r\\nhttp://www.elespectador.com/noticias/judicial/corte-investiga-27-senadores-articulo-446311\\r\\nTomado: septiembre 16/13\\r\\n'],\n",
        " [u'La Corte Suprema de Justicia abri\\xf3 investigaci\\xf3n preliminar contra 27 senadores para esclarecer si alguno de ellos estaba impedido para hacer parte de la votaci\\xf3n para elegir jefe del Ministerio P\\xfablico y, pese a ello, no se declar\\xf3 impedido e hizo parte de la misma. La idea es comprobar si hubo o no alg\\xfan conflicto de intereses alrededor de la votaci\\xf3n (13SEPT13).\\r\\n\\r\\nhttp://www.elespectador.com/noticias/judicial/corte-investiga-27-senadores-articulo-446311\\r\\nTomado: septiembre 16/13\\r\\n'],\n",
        " [u'El senador  fue citado para el pr\\xf3ximo 19 de noviembre a audiencia p\\xfablica por el Consejo de Estado en el marco de la demanda de p\\xe9rdida de investidura radicada en su contra por su presunta participaci\\xf3n en conflicto de intereses, por parte de la defensa del exministro Alberto Santofimio Botero. En la acci\\xf3n judicial se argumenta que el congresista habr\\xeda incurrido en conflicto de intereses al usar su investidura para que el Gobierno no avalara el proyecto de C\\xf3digo Penitenciario, que le daba a los reclusos mayores de 65 a\\xf1os, entre ellos Alberto Santofimio, la posibilidad de recibir libertad condicional.\\r\\n\\r\\nhttp://www.elespectador.com/noticias/judicial/juan-manuel-galan-audiencia-publica-trafico-de-influenc-articulo-449450\\r\\nTomado: octubre 01/13'],\n",
        " [u'La Corte Suprema de Justicia abri\\xf3 investigaci\\xf3n preliminar contra 27 senadores para esclarecer si alguno de ellos estaba impedido para hacer parte de la votaci\\xf3n para elegir jefe del Ministerio P\\xfablico y, pese a ello, no se declar\\xf3 impedido e hizo parte de la misma. La idea es comprobar si hubo o no alg\\xfan conflicto de intereses alrededor de la votaci\\xf3n (13SEPT13). La Senadora Galvis present\\xf3 impedimento, el cual le fue negado.\\r\\n\\r\\nhttp://www.elespectador.com/noticias/judicial/corte-investiga-27-senadores-articulo-446311\\r\\nTomado: septiembre 16/13\\r\\n',\n",
        "  u'La Corte Suprema de Justicia le tiene una investigaci\\xf3n preliminar por supuestos nexos con grupos armados ilegales. http://moe.org.co/home/doc/moe_mre/2012/Baseparapolitica.pdf \\r\\nTomado: dic 03/13'],\n",
        " [u'La Corte Suprema de Justicia declar\\xf3 auto inhibitorio a su favor (18ENE12), en la investigaci\\xf3n  preliminar que ten\\xeda en su contra el representante a la C\\xe1mara por Santander, Jorge G\\xf3mez Villamizar, (05MAY11) por supuesto incremento patrimonial injustificado.\\r\\n\\r\\nhttp://www.elespectador.com/noticias/judicial/articulo-267380-indagan-incremento-patrimonial-de-congresista-jorge-gomez\\r\\nVisto: enero 24/13'],\n",
        " [u'Con investigaci\\xf3n preliminar (nov 2010). La sala penal de la Corte Suprema de Justicia archivo un proceso a favor del congresista sucre\\xf1o, inicialmente investigado por supuestos nexos con las autodefensas. (05OCT11)\\r\\nhttp://www.elespectador.com/noticias/judicial/articulo-303773-archivan-investigacion-parapolitica-contra-antonio-guerra-de-esp\\r\\nTomado: Dic 03/13'],\n",
        " [u'Est\\xe1 llamado a indagatoria por la Fiscal\\xeda por el presunto delito de prevaricato por acci\\xf3n y celebraci\\xf3n indebida de contratos en la creaci\\xf3n de la Corporaci\\xf3n Parques C\\xfacuta. Hern\\xe1ndez Mogoll\\xf3n, en su condici\\xf3n de representante legal de la Corporaci\\xf3n Parques C\\xfacuta, hizo \\u201cque el otro socio cambiara el dise\\xf1o de parque, planeando la creaci\\xf3n de un edificio de diez pisos con la construcci\\xf3n de un hotel, promocionando la venta de los pisos cuando los terrenos pertenecen al municipio sin contar con la licencia de construcci\\xf3n por cuanto la autorizada por la Curadur\\xeda consta de cinco pisos y para construcci\\xf3n de un parque o lugar de recreaci\\xf3n\\u201d.\\r\\n\\r\\nhttp://www.laopinion.com.co/noticias/index.php?option=com_content&task=view&id=339587&Itemid=31\\r\\nhttp://noticucuta.blogspot.com/2009/11/mas-salpicados-con-la-investigacion-por.html\\r\\nVisto: enero 28/13'],\n",
        " [u'La Corte Suprema de Justicia abri\\xf3 investigaci\\xf3n preliminar contra 27 senadores para esclarecer si alguno de ellos estaba impedido para hacer parte de la votaci\\xf3n para elegir jefe del Ministerio P\\xfablico y, pese a ello, no se declar\\xf3 impedido e hizo parte de la misma. La idea es comprobar si hubo o no alg\\xfan conflicto de intereses alrededor de la votaci\\xf3n (13SEPT13).\\r\\n\\r\\nhttp://www.elespectador.com/noticias/judicial/corte-investiga-27-senadores-articulo-446311\\r\\nTomado: septiembre 16/13\\r\\n'],\n",
        " [u'En INDAGACI\\xd3N PRELIMINAR por la Corte Suprema de Justicia dentro del proceso de la PARAPOLITICA (22ENE09). \\r\\n\\r\\nhttp://www.elespectador.com/articulo110479-investigacion-preliminar-contra-mauricio-lizcano\\r\\nVisto: enero 30/13'],\n",
        " [u'La Corte Suprema de Justicia abri\\xf3 investigaci\\xf3n preliminar contra 27 senadores para esclarecer si alguno de ellos estaba impedido para hacer parte de la votaci\\xf3n para elegir jefe del Ministerio P\\xfablico y, pese a ello, no se declar\\xf3 impedido e hizo parte de la misma. La idea es comprobar si hubo o no alg\\xfan conflicto de intereses alrededor de la votaci\\xf3n (13SEPT13). El Senador Londo\\xf1o present\\xf3 impedimento, el cual le fue negado.\\r\\n\\r\\nhttp://www.elespectador.com/noticias/judicial/corte-investiga-27-senadores-articulo-446311\\r\\nTomado: septiembre 16/13\\r\\n'],\n",
        " [u'La Sala Penal de la Corte Suprema de Justicia profiri\\xf3 auto inhibitorio a favor de la congresista liberal Gema L\\xf3pez de Joaqu\\xed en el proceso que se le adelantaba por la llamada farcpol\\xedtica.\\r\\n\\r\\nhttp://www.elespectador.com/noticias/judicial/articulo-314236-archivan-investigaciones-contra-dos-congresistas-farcpolitica\\r\\nVisto: enero 24/13'],\n",
        " [u'La Corte Suprema de Justicia se abstuvo de abrir investigaci\\xf3n en contra del senador del Polo Democr\\xe1tico Alternativo, Alexander L\\xf3pez. El proceso que cursaba en contra de L\\xf3pez hac\\xeda referencia a presuntos nexos con las Farc, pero no se encontraron pruebas sobre esa presunta relaci\\xf3n.\\r\\n\\r\\nhttp://www.elespectador.com/noticias/politica/articulo-291416-se-abstienen-de-abrir-investigacion-contra-alexander-lopez-farcp\\r\\nVisto: enero 24/13',\n",
        "  u'La Corte Suprema de Justicia abri\\xf3 investigaci\\xf3n preliminar contra 27 senadores para esclarecer si alguno de ellos estaba impedido para hacer parte de la votaci\\xf3n para elegir jefe del Ministerio P\\xfablico y, pese a ello, no se declar\\xf3 impedido e hizo parte de la misma. La idea es comprobar si hubo o no alg\\xfan conflicto de intereses alrededor de la votaci\\xf3n (13SEPT13).\\r\\n\\r\\nhttp://www.elespectador.com/noticias/judicial/corte-investiga-27-senadores-articulo-446311\\r\\nTomado: septiembre 16/13\\r\\n'],\n",
        " [u'La Corte Suprema de Justicia le tiene una investigaci\\xf3n preliminar por supuestos nexos con grupos armados ilegales. (18MAR11)\\r\\n\\r\\nhttp://www.senalradiocolombia.gov.co/index.php?option=com_topcontent&view=article&id=15986:por-parapolitica-investigan-a-ex-congresista-jose-ignacio-mesa&catid=5:nacionales\\r\\nTomado: dic 03/13\\r\\nhttp://moe.org.co/home/doc/moe_mre/2012/Baseparapolitica.pdf\\r\\nTomado: dic 03/13'],\n",
        " [u'INDAGACI\\xd3N PRELIMINAR  dentro del proceso de la PARAPOLITICA.\\r\\nhttp://eje21.com.co/nacionales-secciones-53/21182-nueve-congresistas-electos-de-la-u-son-investigados-por-parapoltica.html\\r\\nVisto: enero 31/13\\r\\n\\r\\nLa Corte Suprema de Justicia abri\\xf3 investigaci\\xf3n preliminar contra 27 senadores para esclarecer si alguno de ellos estaba impedido para hacer parte de la votaci\\xf3n para elegir jefe del Ministerio P\\xfablico y, pese a ello, no se declar\\xf3 impedido e hizo parte de la misma. La idea es comprobar si hubo o no alg\\xfan conflicto de intereses alrededor de la votaci\\xf3n (13SEPT13).\\r\\n\\r\\nhttp://www.elespectador.com/noticias/judicial/corte-investiga-27-senadores-articulo-446311\\r\\nTomado: septiembre 16/13\\r\\n'],\n",
        " [u'La Corte Suprema de Justicia abri\\xf3 investigaci\\xf3n preliminar contra 27 senadores para esclarecer si alguno de ellos estaba impedido para hacer parte de la votaci\\xf3n para elegir jefe del Ministerio P\\xfablico y, pese a ello, no se declar\\xf3 impedido e hizo parte de la misma. La idea es comprobar si hubo o no alg\\xfan conflicto de intereses alrededor de la votaci\\xf3n (13SEPT13).\\r\\n\\r\\nhttp://www.elespectador.com/noticias/judicial/corte-investiga-27-senadores-articulo-446311\\r\\nTomado: septiembre 16/13\\r\\n',\n",
        "  u'La Corte Suprema de Justicia abri\\xf3 investigaci\\xf3n preliminar contra 27 senadores para esclarecer si alguno de ellos estaba impedido para hacer parte de la votaci\\xf3n para elegir jefe del Ministerio P\\xfablico y, pese a ello, no se declar\\xf3 impedido e hizo parte de la misma. La idea es comprobar si hubo o no alg\\xfan conflicto de intereses alrededor de la votaci\\xf3n (13SEPT13). http://www.elespectador.com/noticias/judicial/corte-investiga-27-senadores-articulo-446311 Tomado: septiembre 16/13'],\n",
        " [u'La Corte Suprema de Justicia le tiene una investigaci\\xf3n preliminar por supuestos nexos con grupos armados ilegales. (06SEPT12)\\r\\nhttp://www.vanguardia.com/actualidad/colombia/173148-abren-investigacion-preliminar-contra-seis-congresistas-por-parapolitica\\r\\nTomado: Dic 03/13'],\n",
        " [u'DETENIDO y estuvo investigado en el proceso de la PARAPOL\\xcdTICA. El (09NOV07) la Corte Suprema de Justicia PRECLUY\\xd3 el proceso en su contra al comprobarse su inocencia.\\r\\n\\r\\nhttp://www.elespectador.com/impreso/cuadernilloa/politica/articuloimpreso-salvado-parapolitica\\r\\nVisto: enero 31/13'],\n",
        " [u'Corte Suprema de Justicia dict\\xf3 AUTO INHIBITORIO a favor al no hallar m\\xe9rito para investigarla dentro del llamado proceso de la parapol\\xedtica (19NOV08) Estuvo en INDAGACI\\xd3N PRELIMINAR  dentro del proceso de PARAPOL\\xcdTICA(15ABR08-19NOV08 ). La Procuradur\\xeda General de la Naci\\xf3n le inici\\xf3 investigaci\\xf3n disciplinaria (11MAR11). La investigaci\\xf3n se origina a partir de la compulsa de copias que hiciera la Corte Suprema de Justicia para investigar los supuestos indebidos manejos en la Direcci\\xf3n Nacional de Estupefacientes. Llamada a versi\\xf3n libre (18ENE12).\\r\\n\\r\\nhttp://www.elespectador.com/noticias/judicial/articulo-256299-escandalo-de-dne-procuraduria-abre-indagacion-13-dirigentes\\r\\nVisto: enero 31/13\\r\\nLa Corte Suprema abri\\xf3 investigaci\\xf3n preliminar en contra por el supuesto tr\\xe1fico de influencias que ejercieron dentro de la Direcci\\xf3n Nacional de Estupefacientes, DNE (06ABR11).\\r\\nhttp://www.elespectador.com/noticias/judicial/articulo-261299-caso-dne-corte-abre-indagacion-14-dirigentes\\r\\nVisto: enero 31/13'],\n",
        " [u'La Corte Suprema de Justicia no hall\\xf3 m\\xe9rito para continuar con la investigaci\\xf3n (30JUL08). INDAGACI\\xd3N PRELIMINAR  dentro del proceso de la PARAPOLITICA (02JUL08).\\r\\nhttp://www.arcoiris.com.co/2012/12/investigacion-preliminar-a-los-conciliadores-de-la-reforma-a-la-justicia/\\r\\nVisto: enero 28/13\\r\\n\\r\\nLa Corte Suprema de Justicia abri\\xf3 investigaci\\xf3n preliminar contra 27 senadores para esclarecer si alguno de ellos estaba impedido para hacer parte de la votaci\\xf3n para elegir jefe del Ministerio P\\xfablico y, pese a ello, no se declar\\xf3 impedido e hizo parte de la misma. La idea es comprobar si hubo o no alg\\xfan conflicto de intereses alrededor de la votaci\\xf3n (13SEPT13).\\r\\n\\r\\nhttp://www.elespectador.com/noticias/judicial/corte-investiga-27-senadores-articulo-446311\\r\\nTomado: septiembre 16/13\\r\\n'],\n",
        " [u'Corte Suprema de Justicia ARCHIV\\xd3 la investigaci\\xf3n contra RIVERA GUILLERMO, quien hab\\xeda sido LLAMADO A INDAGATORIA por la Corte Suprema de Justicia dentro del proceso de la PARAPOLITICA (10DIC2007). \\r\\n\\r\\nhttp://www.verdadabierta.com/despojo-de-tierras/4233-corte-archivo-investigacion-en-contra-de-guillermo-rivera\\r\\nVisto: enero 30/13'],\n",
        " [u'La investigaci\\xf3n fue archivada por falta de pruebas. Los testimonios fueron desestimados puesto que no representaban material probatorio alguno (25JUN10). Ten\\xeda investigaci\\xf3n preliminar en la Procuradur\\xeda General de la Naci\\xf3n,  por posibles nexos con las Farc. (10JUN09).  \\r\\n\\r\\nhttp://www.elespectador.com/impreso/articuloimpreso-210470-robledo-absuelto-caicedo-mira\\r\\nVisto: enero 24/13',\n",
        "  u'La Corte Suprema de Justicia abri\\xf3 investigaci\\xf3n preliminar contra 27 senadores para esclarecer si alguno de ellos estaba impedido para hacer parte de la votaci\\xf3n para elegir jefe del Ministerio P\\xfablico y, pese a ello, no se declar\\xf3 impedido e hizo parte de la misma. La idea es comprobar si hubo o no alg\\xfan conflicto de intereses alrededor de la votaci\\xf3n (13SEPT13).\\r\\n\\r\\nhttp://www.elespectador.com/noticias/judicial/corte-investiga-27-senadores-articulo-446311\\r\\nTomado: septiembre 16/13\\r\\n'],\n",
        " [u'La Sala Penal de la Corte Suprema de Justicia declar\\xf3 auto inhibitorio en el proceso que se le adelantaba por las irregularidades en la entrega de notar\\xedas durante el gobierno de \\xc1lvaro Uribe V\\xe9lez. Esta decisi\\xf3n se tom\\xf3 al considerar que despu\\xe9s de estudiar las pruebas allegadas no se puede inferir que los parlamentarios hubieran incurrido en un tr\\xe1fico de influencias. (31JUL13). Sala Penal de la Corte Suprema de Justicia lo llam\\xf3 a versi\\xf3n libre por el esc\\xe1ndalo de la supuesta repartici\\xf3n de notar\\xedas a cambio del voto por el proyecto de reelecci\\xf3n presidencial en el 2004. (08ABR13).\\r\\n\\r\\nhttp://www.eltiempo.com/archivo/documento/CMS-12731508\\r\\nTomado: abril 11/13\\r\\n\\r\\nhttp://www.elespectador.com/noticias/judicial/corte-archivo-investigacion-contra-14-congresistas-carr-articulo-437204\\r\\nTomado: julio 31/13',\n",
        "  u'La Corte Suprema de Justicia abri\\xf3 investigaci\\xf3n preliminar contra 27 senadores para esclarecer si alguno de ellos estaba impedido para hacer parte de la votaci\\xf3n para elegir jefe del Ministerio P\\xfablico y, pese a ello, no se declar\\xf3 impedido e hizo parte de la misma. La idea es comprobar si hubo o no alg\\xfan conflicto de intereses alrededor de la votaci\\xf3n (13SEPT13).\\r\\n\\r\\nhttp://www.elespectador.com/noticias/judicial/corte-investiga-27-senadores-articulo-446311\\r\\nTomado: septiembre 16/13\\r\\n'],\n",
        " [u'La Corte Suprema de Justicia le tiene una investigaci\\xf3n preliminar por supuestos nexos con grupos armados ilegales. http://moe.org.co/home/doc/moe_mre/2012/Baseparapolitica.pdf \\r\\nTomado: dic 03/13'],\n",
        " [u'La Sala Penal de la Corte Suprema de Justicia declar\\xf3 auto inhibitorio en el proceso que se le adelantaba por las irregularidades en la entrega de notar\\xedas durante el gobierno de \\xc1lvaro Uribe V\\xe9lez. Esta decisi\\xf3n se tom\\xf3 al considerar que despu\\xe9s de estudiar las pruebas allegadas no se puede inferir que los parlamentarios hubieran incurrido en un tr\\xe1fico de influencias. (31JUL13). Sala Penal de la Corte Suprema de Justicia lo llam\\xf3 a versi\\xf3n libre por el esc\\xe1ndalo de la supuesta repartici\\xf3n de notar\\xedas a cambio del voto por el proyecto de reelecci\\xf3n presidencial en el 2004. (08ABR13).\\r\\n\\r\\nhttp://www.eltiempo.com/archivo/documento/CMS-12731508\\r\\nTomado: abril 11/13\\r\\n\\r\\nhttp://www.elespectador.com/noticias/judicial/corte-archivo-investigacion-contra-14-congresistas-carr-articulo-437204\\r\\nTomado: julio 31/13'],\n",
        " [u'La Corte Suprema de Justicia, determin\\xf3 abrir una investigaci\\xf3n por los presuntos v\\xednculos de la congresista, hermana de Oscar Su\\xe1rez Mira. (18MAY11). La sala penal tom\\xf3 la decisi\\xf3n despu\\xe9s de las declaraciones de Juan Carlos Sierra alias \\u2018el tuso\\u2019 excabecilla del bloque H\\xe9roes de Granada de las Audefensas, quien destap\\xf3 la parapol\\xedtica en Antioquia.\\r\\n\\r\\nhttp://www.radiosantafe.com/2011/05/17/corte-abre-investigacion-contra-la-congresista-olga-suarez-mira-por-presuntos-nexos-con-paramilitares/\\r\\nVisto: enero 24/13'],\n",
        " [u'Investigan origen de m\\xe1s de $130 millones de pesos transportados en avioneta vinculados a campa\\xf1a pol\\xedtica (13MAR10).\\r\\n\\r\\nhttp://www.caracol.com.co/noticias/judicial/investigan-origen-de-mas-de-130-millones-de-pesos-transportados-en-avioneta-vinculados-a-campana-politica/20100313/nota/968458.aspx\\r\\nVisto: enero 30/13'],\n",
        " [u'Estuvo DETENIDO en el proceso de la PARAPOL\\xcdTICA (31MAR08 - 30JUL08). La Corte Suprema de Justicia lo dej\\xf3 en libertad al cambiar la acusaci\\xf3n de concierto para delinquir a cohecho impropio. Recupera su curul al considerar la Corte  que eran falsas las acusaciones de colaboraci\\xf3n con los paramilitares.Fue absuelto por la CSJ y la Procuradur\\xeda General de la Naci\\xf3n (05OCT09) al comprobarse un montaje en su contra. La Corte Suprema de Justicia profiri\\xf3 auto inhibitorio a favor de Velasco en el proceso que se le adelantaba por la llamada farcpol\\xedtica. (30NOV11).\\r\\n\\r\\nhttp://www.elespectador.com/noticias/judicial/articulo-314236-archivan-investigaciones-contra-dos-congresistas-farcpolitica\\r\\nVisto: enero 24/13',\n",
        "  u'La Corte Suprema de Justicia abri\\xf3 investigaci\\xf3n preliminar contra 27 senadores para esclarecer si alguno de ellos estaba impedido para hacer parte de la votaci\\xf3n para elegir jefe del Ministerio P\\xfablico y, pese a ello, no se declar\\xf3 impedido e hizo parte de la misma. La idea es comprobar si hubo o no alg\\xfan conflicto de intereses alrededor de la votaci\\xf3n (13SEPT13).\\r\\n\\r\\nhttp://www.elespectador.com/noticias/judicial/corte-investiga-27-senadores-articulo-446311\\r\\nTomado: septiembre 16/13\\r\\n'],\n",
        " [u'La cifra de votos obtenidos corresponde al total de votos del partido, dado que \\xe9ste inscribi\\xf3 una lista cerrada.'],\n",
        " [u'La Corte Suprema de Justicia abri\\xf3 investigaci\\xf3n preliminar contra 27 senadores para esclarecer si alguno de ellos estaba impedido para hacer parte de la votaci\\xf3n para elegir jefe del Ministerio P\\xfablico y, pese a ello, no se declar\\xf3 impedido e hizo parte de la misma. La idea es comprobar si hubo o no alg\\xfan conflicto de intereses alrededor de la votaci\\xf3n (13SEPT13).\\r\\n\\r\\nhttp://www.elespectador.com/noticias/judicial/corte-investiga-27-senadores-articulo-446311\\r\\nTomado: septiembre 16/13\\r\\n']]"
       ]
      }
     ],
     "prompt_number": 6
    },
    {
     "cell_type": "code",
     "collapsed": false,
     "input": [],
     "language": "python",
     "metadata": {},
     "outputs": [],
     "prompt_number": 6
    }
   ],
   "metadata": {}
  }
 ]
}